{
 "cells": [
  {
   "cell_type": "markdown",
   "metadata": {},
   "source": [
    "# Sentiment Analysis for Hotel Reviews"
   ]
  },
  {
   "cell_type": "markdown",
   "metadata": {},
   "source": [
    "## Importing Libraries"
   ]
  },
  {
   "cell_type": "code",
   "execution_count": 42,
   "metadata": {},
   "outputs": [],
   "source": [
    "import pandas as pd\n",
    "from sklearn.model_selection import train_test_split\n",
    "import string\n",
    "from langdetect import detect\n",
    "from sklearn.feature_extraction.text import CountVectorizer\n",
    "from sklearn.linear_model import LogisticRegression\n",
    "from sklearn.metrics import classification_report, confusion_matrix"
   ]
  },
  {
   "cell_type": "markdown",
   "metadata": {},
   "source": [
    "## Loading the Data"
   ]
  },
  {
   "cell_type": "code",
   "execution_count": 43,
   "metadata": {},
   "outputs": [
    {
     "name": "stdout",
     "output_type": "stream",
     "text": [
      "Total number of rows: 7001\n"
     ]
    },
    {
     "data": {
      "text/html": [
       "<div>\n",
       "<style scoped>\n",
       "    .dataframe tbody tr th:only-of-type {\n",
       "        vertical-align: middle;\n",
       "    }\n",
       "\n",
       "    .dataframe tbody tr th {\n",
       "        vertical-align: top;\n",
       "    }\n",
       "\n",
       "    .dataframe thead th {\n",
       "        text-align: right;\n",
       "    }\n",
       "</style>\n",
       "<table border=\"1\" class=\"dataframe\">\n",
       "  <thead>\n",
       "    <tr style=\"text-align: right;\">\n",
       "      <th></th>\n",
       "      <th>Index</th>\n",
       "      <th>Name</th>\n",
       "      <th>Area</th>\n",
       "      <th>Review_Date</th>\n",
       "      <th>Rating_attribute</th>\n",
       "      <th>Rating(Out of 10)</th>\n",
       "      <th>Review_Text</th>\n",
       "    </tr>\n",
       "  </thead>\n",
       "  <tbody>\n",
       "    <tr>\n",
       "      <th>0</th>\n",
       "      <td>0</td>\n",
       "      <td>Hotel The Pearl</td>\n",
       "      <td>Paharganj, New Delhi</td>\n",
       "      <td>Jul-23</td>\n",
       "      <td>Best budget friendly hotel</td>\n",
       "      <td>9.0</td>\n",
       "      <td>Hotel the pearl is perfect place to stay in De...</td>\n",
       "    </tr>\n",
       "    <tr>\n",
       "      <th>1</th>\n",
       "      <td>1</td>\n",
       "      <td>Hotel The Pearl</td>\n",
       "      <td>Paharganj, New Delhi</td>\n",
       "      <td>Aug-23</td>\n",
       "      <td>Amazing place</td>\n",
       "      <td>9.0</td>\n",
       "      <td>Location of the hotel is perfect. The hotel is...</td>\n",
       "    </tr>\n",
       "    <tr>\n",
       "      <th>2</th>\n",
       "      <td>2</td>\n",
       "      <td>Hotel The Pearl</td>\n",
       "      <td>Paharganj, New Delhi</td>\n",
       "      <td>Aug-23</td>\n",
       "      <td>Overall good stay. Economic.</td>\n",
       "      <td>9.0</td>\n",
       "      <td>Location, Indian food.</td>\n",
       "    </tr>\n",
       "    <tr>\n",
       "      <th>3</th>\n",
       "      <td>3</td>\n",
       "      <td>Hotel The Pearl</td>\n",
       "      <td>Paharganj, New Delhi</td>\n",
       "      <td>Aug-23</td>\n",
       "      <td>Lovely</td>\n",
       "      <td>9.0</td>\n",
       "      <td>The location and the hotel itself is great. Ne...</td>\n",
       "    </tr>\n",
       "    <tr>\n",
       "      <th>4</th>\n",
       "      <td>4</td>\n",
       "      <td>Hotel The Pearl</td>\n",
       "      <td>Paharganj, New Delhi</td>\n",
       "      <td>Aug-23</td>\n",
       "      <td>Great hotel Great staff and great staying</td>\n",
       "      <td>9.0</td>\n",
       "      <td>Friendly and smiling staffs.. The reception st...</td>\n",
       "    </tr>\n",
       "  </tbody>\n",
       "</table>\n",
       "</div>"
      ],
      "text/plain": [
       "   Index             Name                  Area Review_Date  \\\n",
       "0      0  Hotel The Pearl  Paharganj, New Delhi      Jul-23   \n",
       "1      1  Hotel The Pearl  Paharganj, New Delhi      Aug-23   \n",
       "2      2  Hotel The Pearl  Paharganj, New Delhi      Aug-23   \n",
       "3      3  Hotel The Pearl  Paharganj, New Delhi      Aug-23   \n",
       "4      4  Hotel The Pearl  Paharganj, New Delhi      Aug-23   \n",
       "\n",
       "                            Rating_attribute  Rating(Out of 10)  \\\n",
       "0                 Best budget friendly hotel                9.0   \n",
       "1                              Amazing place                9.0   \n",
       "2               Overall good stay. Economic.                9.0   \n",
       "3                                     Lovely                9.0   \n",
       "4  Great hotel Great staff and great staying                9.0   \n",
       "\n",
       "                                         Review_Text  \n",
       "0  Hotel the pearl is perfect place to stay in De...  \n",
       "1  Location of the hotel is perfect. The hotel is...  \n",
       "2                             Location, Indian food.  \n",
       "3  The location and the hotel itself is great. Ne...  \n",
       "4  Friendly and smiling staffs.. The reception st...  "
      ]
     },
     "execution_count": 43,
     "metadata": {},
     "output_type": "execute_result"
    }
   ],
   "source": [
    "# Load the dataset\n",
    "data = pd.read_csv(\"hotel_reviews.csv\")\n",
    "\n",
    "# Total number of rows\n",
    "total_rows = data.shape[0]\n",
    "print(f\"Total number of rows: {total_rows}\")\n",
    "\n",
    "data.head()"
   ]
  },
  {
   "cell_type": "code",
   "execution_count": 44,
   "metadata": {},
   "outputs": [
    {
     "name": "stdout",
     "output_type": "stream",
     "text": [
      "Number of duplicate rows: 0\n"
     ]
    }
   ],
   "source": [
    "# Find out the initial number of dupilcate rows\n",
    "num_duplicates = data.duplicated().sum()\n",
    "print(f\"Number of duplicate rows: {num_duplicates}\")"
   ]
  },
  {
   "cell_type": "markdown",
   "metadata": {},
   "source": [
    "## Extracting Key Information from Data"
   ]
  },
  {
   "cell_type": "code",
   "execution_count": 45,
   "metadata": {},
   "outputs": [
    {
     "data": {
      "text/html": [
       "<div>\n",
       "<style scoped>\n",
       "    .dataframe tbody tr th:only-of-type {\n",
       "        vertical-align: middle;\n",
       "    }\n",
       "\n",
       "    .dataframe tbody tr th {\n",
       "        vertical-align: top;\n",
       "    }\n",
       "\n",
       "    .dataframe thead th {\n",
       "        text-align: right;\n",
       "    }\n",
       "</style>\n",
       "<table border=\"1\" class=\"dataframe\">\n",
       "  <thead>\n",
       "    <tr style=\"text-align: right;\">\n",
       "      <th></th>\n",
       "      <th>Review_Text</th>\n",
       "      <th>Rating(Out of 10)</th>\n",
       "    </tr>\n",
       "  </thead>\n",
       "  <tbody>\n",
       "    <tr>\n",
       "      <th>6996</th>\n",
       "      <td>The room was good, comfortable and aesthetic \\...</td>\n",
       "      <td>10.0</td>\n",
       "    </tr>\n",
       "    <tr>\n",
       "      <th>6997</th>\n",
       "      <td>good hotel</td>\n",
       "      <td>9.0</td>\n",
       "    </tr>\n",
       "    <tr>\n",
       "      <th>6998</th>\n",
       "      <td>good experience for me about hotel \\r\\nvery go...</td>\n",
       "      <td>10.0</td>\n",
       "    </tr>\n",
       "    <tr>\n",
       "      <th>6999</th>\n",
       "      <td>well done</td>\n",
       "      <td>10.0</td>\n",
       "    </tr>\n",
       "    <tr>\n",
       "      <th>7000</th>\n",
       "      <td>Nothing</td>\n",
       "      <td>2.0</td>\n",
       "    </tr>\n",
       "  </tbody>\n",
       "</table>\n",
       "</div>"
      ],
      "text/plain": [
       "                                            Review_Text  Rating(Out of 10)\n",
       "6996  The room was good, comfortable and aesthetic \\...               10.0\n",
       "6997                                         good hotel                9.0\n",
       "6998  good experience for me about hotel \\r\\nvery go...               10.0\n",
       "6999                                          well done               10.0\n",
       "7000                                            Nothing                2.0"
      ]
     },
     "execution_count": 45,
     "metadata": {},
     "output_type": "execute_result"
    }
   ],
   "source": [
    "# Get rid of unnecessary columns\n",
    "columns_needed = ['Review_Text', 'Rating(Out of 10)']\n",
    "data = data[columns_needed]\n",
    "\n",
    "data.tail()"
   ]
  },
  {
   "cell_type": "code",
   "execution_count": 46,
   "metadata": {},
   "outputs": [
    {
     "name": "stdout",
     "output_type": "stream",
     "text": [
      "Number of rows with missing values: 7\n"
     ]
    }
   ],
   "source": [
    "# Total number of rows with missing values\n",
    "num_missing_rows = data.isnull().any(axis=1).sum()\n",
    "\n",
    "print(f\"Number of rows with missing values: {num_missing_rows}\")"
   ]
  },
  {
   "cell_type": "code",
   "execution_count": 47,
   "metadata": {},
   "outputs": [
    {
     "name": "stdout",
     "output_type": "stream",
     "text": [
      "Total number of rows: 6994\n"
     ]
    }
   ],
   "source": [
    "# Remove rows with any missing values\n",
    "data = data.dropna()\n",
    "\n",
    "# Total number of rows\n",
    "total_rows = data.shape[0]\n",
    "print(f\"Total number of rows: {total_rows}\")"
   ]
  },
  {
   "cell_type": "code",
   "execution_count": 48,
   "metadata": {},
   "outputs": [
    {
     "name": "stdout",
     "output_type": "stream",
     "text": [
      "Total number of rows: 6381\n"
     ]
    }
   ],
   "source": [
    "# Check if the review text is in English\n",
    "def is_english(text):\n",
    "    try:\n",
    "        return detect(text) == 'en'\n",
    "    except:\n",
    "        return False\n",
    "\n",
    "# Apply the function to the 'Review_Text' column\n",
    "data['is_english'] = data['Review_Text'].apply(is_english)\n",
    "\n",
    "# Filter out rows that are not in English\n",
    "data = data[data['is_english']].drop(columns=['is_english'])\n",
    "\n",
    "# Total number of rows\n",
    "total_rows = data.shape[0]\n",
    "print(f\"Total number of rows: {total_rows}\")"
   ]
  },
  {
   "cell_type": "code",
   "execution_count": 49,
   "metadata": {},
   "outputs": [
    {
     "name": "stdout",
     "output_type": "stream",
     "text": [
      "Total number of rows: 5650\n"
     ]
    }
   ],
   "source": [
    "# Remove rows where the review text is ' no comments available for this review'\n",
    "data = data[data['Review_Text'] != ' no comments available for this review']\n",
    "\n",
    "# Remove rows where the review text is ' Nothing'\n",
    "data = data[data['Review_Text'] != 'Nothing']\n",
    "\n",
    "# Total number of rows\n",
    "total_rows = data.shape[0]\n",
    "print(f\"Total number of rows: {total_rows}\")"
   ]
  },
  {
   "cell_type": "code",
   "execution_count": 50,
   "metadata": {},
   "outputs": [
    {
     "data": {
      "text/html": [
       "<div>\n",
       "<style scoped>\n",
       "    .dataframe tbody tr th:only-of-type {\n",
       "        vertical-align: middle;\n",
       "    }\n",
       "\n",
       "    .dataframe tbody tr th {\n",
       "        vertical-align: top;\n",
       "    }\n",
       "\n",
       "    .dataframe thead th {\n",
       "        text-align: right;\n",
       "    }\n",
       "</style>\n",
       "<table border=\"1\" class=\"dataframe\">\n",
       "  <thead>\n",
       "    <tr style=\"text-align: right;\">\n",
       "      <th></th>\n",
       "      <th>Review_Text</th>\n",
       "      <th>Rating(Out of 10)</th>\n",
       "    </tr>\n",
       "  </thead>\n",
       "  <tbody>\n",
       "    <tr>\n",
       "      <th>6992</th>\n",
       "      <td>nice hotel staff behavior is good hotel locati...</td>\n",
       "      <td>10.0</td>\n",
       "    </tr>\n",
       "    <tr>\n",
       "      <th>6993</th>\n",
       "      <td>The overall service was really nice. The hotel...</td>\n",
       "      <td>8.0</td>\n",
       "    </tr>\n",
       "    <tr>\n",
       "      <th>6994</th>\n",
       "      <td>peaceful place though it’s in corner of ind area</td>\n",
       "      <td>8.0</td>\n",
       "    </tr>\n",
       "    <tr>\n",
       "      <th>6996</th>\n",
       "      <td>The room was good, comfortable and aesthetic  ...</td>\n",
       "      <td>10.0</td>\n",
       "    </tr>\n",
       "    <tr>\n",
       "      <th>6998</th>\n",
       "      <td>good experience for me about hotel  very good ...</td>\n",
       "      <td>10.0</td>\n",
       "    </tr>\n",
       "  </tbody>\n",
       "</table>\n",
       "</div>"
      ],
      "text/plain": [
       "                                            Review_Text  Rating(Out of 10)\n",
       "6992  nice hotel staff behavior is good hotel locati...               10.0\n",
       "6993  The overall service was really nice. The hotel...                8.0\n",
       "6994   peaceful place though it’s in corner of ind area                8.0\n",
       "6996  The room was good, comfortable and aesthetic  ...               10.0\n",
       "6998  good experience for me about hotel  very good ...               10.0"
      ]
     },
     "execution_count": 50,
     "metadata": {},
     "output_type": "execute_result"
    }
   ],
   "source": [
    "# Remove \\r\\n from Review text\n",
    "data['Review_Text'] = data['Review_Text'].str.replace(r'\\r\\n', ' ', regex=True)\n",
    "\n",
    "data.tail()"
   ]
  },
  {
   "cell_type": "markdown",
   "metadata": {},
   "source": [
    "## Giving the Review Score a Sentiment"
   ]
  },
  {
   "cell_type": "code",
   "execution_count": 51,
   "metadata": {},
   "outputs": [
    {
     "name": "stdout",
     "output_type": "stream",
     "text": [
      "Positive Reviews:\n"
     ]
    },
    {
     "data": {
      "text/html": [
       "<div>\n",
       "<style scoped>\n",
       "    .dataframe tbody tr th:only-of-type {\n",
       "        vertical-align: middle;\n",
       "    }\n",
       "\n",
       "    .dataframe tbody tr th {\n",
       "        vertical-align: top;\n",
       "    }\n",
       "\n",
       "    .dataframe thead th {\n",
       "        text-align: right;\n",
       "    }\n",
       "</style>\n",
       "<table border=\"1\" class=\"dataframe\">\n",
       "  <thead>\n",
       "    <tr style=\"text-align: right;\">\n",
       "      <th></th>\n",
       "      <th>Review_Text</th>\n",
       "      <th>Rating(Out of 10)</th>\n",
       "      <th>Sentiment</th>\n",
       "    </tr>\n",
       "  </thead>\n",
       "  <tbody>\n",
       "    <tr>\n",
       "      <th>0</th>\n",
       "      <td>Hotel the pearl is perfect place to stay in De...</td>\n",
       "      <td>9.0</td>\n",
       "      <td>positive</td>\n",
       "    </tr>\n",
       "    <tr>\n",
       "      <th>1</th>\n",
       "      <td>Location of the hotel is perfect. The hotel is...</td>\n",
       "      <td>9.0</td>\n",
       "      <td>positive</td>\n",
       "    </tr>\n",
       "    <tr>\n",
       "      <th>2</th>\n",
       "      <td>Location, Indian food.</td>\n",
       "      <td>9.0</td>\n",
       "      <td>positive</td>\n",
       "    </tr>\n",
       "    <tr>\n",
       "      <th>3</th>\n",
       "      <td>The location and the hotel itself is great. Ne...</td>\n",
       "      <td>9.0</td>\n",
       "      <td>positive</td>\n",
       "    </tr>\n",
       "    <tr>\n",
       "      <th>4</th>\n",
       "      <td>Friendly and smiling staffs.. The reception st...</td>\n",
       "      <td>9.0</td>\n",
       "      <td>positive</td>\n",
       "    </tr>\n",
       "  </tbody>\n",
       "</table>\n",
       "</div>"
      ],
      "text/plain": [
       "                                         Review_Text  Rating(Out of 10)  \\\n",
       "0  Hotel the pearl is perfect place to stay in De...                9.0   \n",
       "1  Location of the hotel is perfect. The hotel is...                9.0   \n",
       "2                             Location, Indian food.                9.0   \n",
       "3  The location and the hotel itself is great. Ne...                9.0   \n",
       "4  Friendly and smiling staffs.. The reception st...                9.0   \n",
       "\n",
       "  Sentiment  \n",
       "0  positive  \n",
       "1  positive  \n",
       "2  positive  \n",
       "3  positive  \n",
       "4  positive  "
      ]
     },
     "metadata": {},
     "output_type": "display_data"
    },
    {
     "name": "stdout",
     "output_type": "stream",
     "text": [
      "Neutral Reviews:\n"
     ]
    },
    {
     "data": {
      "text/html": [
       "<div>\n",
       "<style scoped>\n",
       "    .dataframe tbody tr th:only-of-type {\n",
       "        vertical-align: middle;\n",
       "    }\n",
       "\n",
       "    .dataframe tbody tr th {\n",
       "        vertical-align: top;\n",
       "    }\n",
       "\n",
       "    .dataframe thead th {\n",
       "        text-align: right;\n",
       "    }\n",
       "</style>\n",
       "<table border=\"1\" class=\"dataframe\">\n",
       "  <thead>\n",
       "    <tr style=\"text-align: right;\">\n",
       "      <th></th>\n",
       "      <th>Review_Text</th>\n",
       "      <th>Rating(Out of 10)</th>\n",
       "      <th>Sentiment</th>\n",
       "    </tr>\n",
       "  </thead>\n",
       "  <tbody>\n",
       "    <tr>\n",
       "      <th>15</th>\n",
       "      <td>staff service was good</td>\n",
       "      <td>6.0</td>\n",
       "      <td>neutral</td>\n",
       "    </tr>\n",
       "    <tr>\n",
       "      <th>111</th>\n",
       "      <td>experience was good,</td>\n",
       "      <td>6.0</td>\n",
       "      <td>neutral</td>\n",
       "    </tr>\n",
       "    <tr>\n",
       "      <th>119</th>\n",
       "      <td>The staff was really kind and let us to put ou...</td>\n",
       "      <td>6.0</td>\n",
       "      <td>neutral</td>\n",
       "    </tr>\n",
       "    <tr>\n",
       "      <th>199</th>\n",
       "      <td>Wi-fi was good , staff was friendly</td>\n",
       "      <td>5.0</td>\n",
       "      <td>neutral</td>\n",
       "    </tr>\n",
       "    <tr>\n",
       "      <th>200</th>\n",
       "      <td>Old type furniture</td>\n",
       "      <td>6.0</td>\n",
       "      <td>neutral</td>\n",
       "    </tr>\n",
       "  </tbody>\n",
       "</table>\n",
       "</div>"
      ],
      "text/plain": [
       "                                           Review_Text  Rating(Out of 10)  \\\n",
       "15                              staff service was good                6.0   \n",
       "111                               experience was good,                6.0   \n",
       "119  The staff was really kind and let us to put ou...                6.0   \n",
       "199                Wi-fi was good , staff was friendly                5.0   \n",
       "200                                 Old type furniture                6.0   \n",
       "\n",
       "    Sentiment  \n",
       "15    neutral  \n",
       "111   neutral  \n",
       "119   neutral  \n",
       "199   neutral  \n",
       "200   neutral  "
      ]
     },
     "metadata": {},
     "output_type": "display_data"
    },
    {
     "name": "stdout",
     "output_type": "stream",
     "text": [
      "Negative Reviews:\n"
     ]
    },
    {
     "data": {
      "text/html": [
       "<div>\n",
       "<style scoped>\n",
       "    .dataframe tbody tr th:only-of-type {\n",
       "        vertical-align: middle;\n",
       "    }\n",
       "\n",
       "    .dataframe tbody tr th {\n",
       "        vertical-align: top;\n",
       "    }\n",
       "\n",
       "    .dataframe thead th {\n",
       "        text-align: right;\n",
       "    }\n",
       "</style>\n",
       "<table border=\"1\" class=\"dataframe\">\n",
       "  <thead>\n",
       "    <tr style=\"text-align: right;\">\n",
       "      <th></th>\n",
       "      <th>Review_Text</th>\n",
       "      <th>Rating(Out of 10)</th>\n",
       "      <th>Sentiment</th>\n",
       "    </tr>\n",
       "  </thead>\n",
       "  <tbody>\n",
       "    <tr>\n",
       "      <th>96</th>\n",
       "      <td>Location was center of city</td>\n",
       "      <td>4.0</td>\n",
       "      <td>negative</td>\n",
       "    </tr>\n",
       "    <tr>\n",
       "      <th>120</th>\n",
       "      <td>Leaving the hotel</td>\n",
       "      <td>1.0</td>\n",
       "      <td>negative</td>\n",
       "    </tr>\n",
       "    <tr>\n",
       "      <th>145</th>\n",
       "      <td>· I regret taking the stay over there and ple...</td>\n",
       "      <td>1.0</td>\n",
       "      <td>negative</td>\n",
       "    </tr>\n",
       "    <tr>\n",
       "      <th>146</th>\n",
       "      <td>· It was a disaster. How can such a poor hote...</td>\n",
       "      <td>1.0</td>\n",
       "      <td>negative</td>\n",
       "    </tr>\n",
       "    <tr>\n",
       "      <th>171</th>\n",
       "      <td>Dirty bathroom and rooms .They didn’t even kep...</td>\n",
       "      <td>2.0</td>\n",
       "      <td>negative</td>\n",
       "    </tr>\n",
       "  </tbody>\n",
       "</table>\n",
       "</div>"
      ],
      "text/plain": [
       "                                           Review_Text  Rating(Out of 10)  \\\n",
       "96                         Location was center of city                4.0   \n",
       "120                                  Leaving the hotel                1.0   \n",
       "145   · I regret taking the stay over there and ple...                1.0   \n",
       "146   · It was a disaster. How can such a poor hote...                1.0   \n",
       "171  Dirty bathroom and rooms .They didn’t even kep...                2.0   \n",
       "\n",
       "    Sentiment  \n",
       "96   negative  \n",
       "120  negative  \n",
       "145  negative  \n",
       "146  negative  \n",
       "171  negative  "
      ]
     },
     "metadata": {},
     "output_type": "display_data"
    }
   ],
   "source": [
    "# Add sentiment labels based on review score\n",
    "def assign_sentiment(score):\n",
    "    if score > 6:\n",
    "        return 'positive'\n",
    "    if score >= 5:\n",
    "        return 'neutral'\n",
    "    return 'negative'\n",
    "\n",
    "# Apply the function to create a new 'Sentiment' column\n",
    "data['Sentiment'] = data['Rating(Out of 10)'].apply(assign_sentiment)\n",
    "\n",
    "# Filter and display positive reviews\n",
    "print(\"Positive Reviews:\")\n",
    "display(data[data['Sentiment'] == 'positive'][['Review_Text', 'Rating(Out of 10)', 'Sentiment']].head())\n",
    "\n",
    "# Filter and display neutral reviews\n",
    "print(\"Neutral Reviews:\")\n",
    "display(data[data['Sentiment'] == 'neutral'][['Review_Text', 'Rating(Out of 10)', 'Sentiment']].head())\n",
    "\n",
    "# Filter and display negative reviews\n",
    "print(\"Negative Reviews:\")\n",
    "display(data[data['Sentiment'] == 'negative'][['Review_Text', 'Rating(Out of 10)', 'Sentiment']].head())"
   ]
  },
  {
   "cell_type": "markdown",
   "metadata": {},
   "source": [
    "## Splitting the Data (80% train, 20% test)"
   ]
  },
  {
   "cell_type": "code",
   "execution_count": 52,
   "metadata": {},
   "outputs": [
    {
     "name": "stdout",
     "output_type": "stream",
     "text": [
      "Total number of rows in train data: 4520\n",
      "Total number of rows in test data: 1130\n"
     ]
    },
    {
     "data": {
      "text/html": [
       "<div>\n",
       "<style scoped>\n",
       "    .dataframe tbody tr th:only-of-type {\n",
       "        vertical-align: middle;\n",
       "    }\n",
       "\n",
       "    .dataframe tbody tr th {\n",
       "        vertical-align: top;\n",
       "    }\n",
       "\n",
       "    .dataframe thead th {\n",
       "        text-align: right;\n",
       "    }\n",
       "</style>\n",
       "<table border=\"1\" class=\"dataframe\">\n",
       "  <thead>\n",
       "    <tr style=\"text-align: right;\">\n",
       "      <th></th>\n",
       "      <th>Review_Text</th>\n",
       "      <th>Rating(Out of 10)</th>\n",
       "      <th>Sentiment</th>\n",
       "    </tr>\n",
       "  </thead>\n",
       "  <tbody>\n",
       "    <tr>\n",
       "      <th>4515</th>\n",
       "      <td>Location was very nice, safety, atmosphere was...</td>\n",
       "      <td>7.0</td>\n",
       "      <td>positive</td>\n",
       "    </tr>\n",
       "    <tr>\n",
       "      <th>4516</th>\n",
       "      <td>Location  And concept</td>\n",
       "      <td>8.0</td>\n",
       "      <td>positive</td>\n",
       "    </tr>\n",
       "    <tr>\n",
       "      <th>4517</th>\n",
       "      <td>Cool</td>\n",
       "      <td>5.0</td>\n",
       "      <td>neutral</td>\n",
       "    </tr>\n",
       "    <tr>\n",
       "      <th>4518</th>\n",
       "      <td>It was a really good experience. The room was ...</td>\n",
       "      <td>10.0</td>\n",
       "      <td>positive</td>\n",
       "    </tr>\n",
       "    <tr>\n",
       "      <th>4519</th>\n",
       "      <td>Best budget friendly hotel in karol bagh.. The...</td>\n",
       "      <td>9.0</td>\n",
       "      <td>positive</td>\n",
       "    </tr>\n",
       "  </tbody>\n",
       "</table>\n",
       "</div>"
      ],
      "text/plain": [
       "                                            Review_Text  Rating(Out of 10)  \\\n",
       "4515  Location was very nice, safety, atmosphere was...                7.0   \n",
       "4516                              Location  And concept                8.0   \n",
       "4517                                               Cool                5.0   \n",
       "4518  It was a really good experience. The room was ...               10.0   \n",
       "4519  Best budget friendly hotel in karol bagh.. The...                9.0   \n",
       "\n",
       "     Sentiment  \n",
       "4515  positive  \n",
       "4516  positive  \n",
       "4517   neutral  \n",
       "4518  positive  \n",
       "4519  positive  "
      ]
     },
     "execution_count": 52,
     "metadata": {},
     "output_type": "execute_result"
    }
   ],
   "source": [
    "train_data, test_data = train_test_split(data, test_size=0.2, random_state=42)\n",
    "\n",
    "# Reset index to avoid potential indexing issues\n",
    "train_data = train_data.reset_index(drop=True)\n",
    "test_data = test_data.reset_index(drop=True)\n",
    "\n",
    "# Total number of rows in train data\n",
    "total_rows_train_data = train_data.shape[0]\n",
    "print(f\"Total number of rows in train data: {total_rows_train_data}\")\n",
    "\n",
    "# Total number of rows in test data\n",
    "total_rows_test_data = test_data.shape[0]\n",
    "print(f\"Total number of rows in test data: {total_rows_test_data}\")\n",
    "\n",
    "train_data.tail()"
   ]
  },
  {
   "cell_type": "markdown",
   "metadata": {},
   "source": [
    "## Text Preprocessing"
   ]
  },
  {
   "cell_type": "code",
   "execution_count": 53,
   "metadata": {},
   "outputs": [
    {
     "data": {
      "text/html": [
       "<div>\n",
       "<style scoped>\n",
       "    .dataframe tbody tr th:only-of-type {\n",
       "        vertical-align: middle;\n",
       "    }\n",
       "\n",
       "    .dataframe tbody tr th {\n",
       "        vertical-align: top;\n",
       "    }\n",
       "\n",
       "    .dataframe thead th {\n",
       "        text-align: right;\n",
       "    }\n",
       "</style>\n",
       "<table border=\"1\" class=\"dataframe\">\n",
       "  <thead>\n",
       "    <tr style=\"text-align: right;\">\n",
       "      <th></th>\n",
       "      <th>Review_Text</th>\n",
       "      <th>Rating(Out of 10)</th>\n",
       "      <th>Sentiment</th>\n",
       "    </tr>\n",
       "  </thead>\n",
       "  <tbody>\n",
       "    <tr>\n",
       "      <th>4515</th>\n",
       "      <td>location was very nice, safety, atmosphere was...</td>\n",
       "      <td>7.0</td>\n",
       "      <td>positive</td>\n",
       "    </tr>\n",
       "    <tr>\n",
       "      <th>4516</th>\n",
       "      <td>location  and concept</td>\n",
       "      <td>8.0</td>\n",
       "      <td>positive</td>\n",
       "    </tr>\n",
       "    <tr>\n",
       "      <th>4517</th>\n",
       "      <td>cool</td>\n",
       "      <td>5.0</td>\n",
       "      <td>neutral</td>\n",
       "    </tr>\n",
       "    <tr>\n",
       "      <th>4518</th>\n",
       "      <td>it was a really good experience. the room was ...</td>\n",
       "      <td>10.0</td>\n",
       "      <td>positive</td>\n",
       "    </tr>\n",
       "    <tr>\n",
       "      <th>4519</th>\n",
       "      <td>best budget friendly hotel in karol bagh.. the...</td>\n",
       "      <td>9.0</td>\n",
       "      <td>positive</td>\n",
       "    </tr>\n",
       "  </tbody>\n",
       "</table>\n",
       "</div>"
      ],
      "text/plain": [
       "                                            Review_Text  Rating(Out of 10)  \\\n",
       "4515  location was very nice, safety, atmosphere was...                7.0   \n",
       "4516                              location  and concept                8.0   \n",
       "4517                                               cool                5.0   \n",
       "4518  it was a really good experience. the room was ...               10.0   \n",
       "4519  best budget friendly hotel in karol bagh.. the...                9.0   \n",
       "\n",
       "     Sentiment  \n",
       "4515  positive  \n",
       "4516  positive  \n",
       "4517   neutral  \n",
       "4518  positive  \n",
       "4519  positive  "
      ]
     },
     "execution_count": 53,
     "metadata": {},
     "output_type": "execute_result"
    }
   ],
   "source": [
    "# Convert train data text to lowercase\n",
    "train_data['Review_Text'] = train_data['Review_Text'].str.lower()\n",
    "\n",
    "train_data.tail()"
   ]
  },
  {
   "cell_type": "code",
   "execution_count": 54,
   "metadata": {},
   "outputs": [
    {
     "data": {
      "text/html": [
       "<div>\n",
       "<style scoped>\n",
       "    .dataframe tbody tr th:only-of-type {\n",
       "        vertical-align: middle;\n",
       "    }\n",
       "\n",
       "    .dataframe tbody tr th {\n",
       "        vertical-align: top;\n",
       "    }\n",
       "\n",
       "    .dataframe thead th {\n",
       "        text-align: right;\n",
       "    }\n",
       "</style>\n",
       "<table border=\"1\" class=\"dataframe\">\n",
       "  <thead>\n",
       "    <tr style=\"text-align: right;\">\n",
       "      <th></th>\n",
       "      <th>Review_Text</th>\n",
       "      <th>Rating(Out of 10)</th>\n",
       "      <th>Sentiment</th>\n",
       "    </tr>\n",
       "  </thead>\n",
       "  <tbody>\n",
       "    <tr>\n",
       "      <th>4515</th>\n",
       "      <td>location was very nice safety atmosphere was g...</td>\n",
       "      <td>7.0</td>\n",
       "      <td>positive</td>\n",
       "    </tr>\n",
       "    <tr>\n",
       "      <th>4516</th>\n",
       "      <td>location  and concept</td>\n",
       "      <td>8.0</td>\n",
       "      <td>positive</td>\n",
       "    </tr>\n",
       "    <tr>\n",
       "      <th>4517</th>\n",
       "      <td>cool</td>\n",
       "      <td>5.0</td>\n",
       "      <td>neutral</td>\n",
       "    </tr>\n",
       "    <tr>\n",
       "      <th>4518</th>\n",
       "      <td>it was a really good experience the room was c...</td>\n",
       "      <td>10.0</td>\n",
       "      <td>positive</td>\n",
       "    </tr>\n",
       "    <tr>\n",
       "      <th>4519</th>\n",
       "      <td>best budget friendly hotel in karol bagh the c...</td>\n",
       "      <td>9.0</td>\n",
       "      <td>positive</td>\n",
       "    </tr>\n",
       "  </tbody>\n",
       "</table>\n",
       "</div>"
      ],
      "text/plain": [
       "                                            Review_Text  Rating(Out of 10)  \\\n",
       "4515  location was very nice safety atmosphere was g...                7.0   \n",
       "4516                              location  and concept                8.0   \n",
       "4517                                               cool                5.0   \n",
       "4518  it was a really good experience the room was c...               10.0   \n",
       "4519  best budget friendly hotel in karol bagh the c...                9.0   \n",
       "\n",
       "     Sentiment  \n",
       "4515  positive  \n",
       "4516  positive  \n",
       "4517   neutral  \n",
       "4518  positive  \n",
       "4519  positive  "
      ]
     },
     "execution_count": 54,
     "metadata": {},
     "output_type": "execute_result"
    }
   ],
   "source": [
    "# Remove punctuation\n",
    "train_data['Review_Text'] = train_data['Review_Text'].str.translate(str.maketrans('', '', string.punctuation))\n",
    "\n",
    "train_data.tail()"
   ]
  },
  {
   "cell_type": "markdown",
   "metadata": {},
   "source": [
    "## Vectorize"
   ]
  },
  {
   "cell_type": "code",
   "execution_count": 55,
   "metadata": {},
   "outputs": [
    {
     "name": "stdout",
     "output_type": "stream",
     "text": [
      "Tokenized words: ['05' '0500hrs' '05032023' '0900' '10' '100' '1000' '1000pm' '100150'\n",
      " '1010' '1015' '1028' '10am' '10pm' '1100' '110029' '1162' '11pm' '12'\n",
      " '120' '1200' '1230am' '1230pm' '1240' '12pm' '12th' '13' '130' '1300'\n",
      " '130am' '14' '144' '14aug' '15' '150' '1500' '15aug' '15mins' '16' '1600'\n",
      " '170' '1819' '1friendly' '1l' '1lit' '1min' '1person' '1st' '1the'\n",
      " '1water' '20' '200' '2000' '2018' '2021' '2022' '21' '2200' '230am' '24'\n",
      " '2400' '247' '24h' '24hour' '24hours' '24hrs' '24x7' '25' '250' '26'\n",
      " '27hour' '2am' '2km' '2nd' '2yo' '30' '300' '3000' '300m' '30second'\n",
      " '315' '32' '33' '330' '34' '345am' '38which' '39' '3rd' '3time' '4050'\n",
      " '40degc' '45' '4ft' '4hrs' '4th' '5000' '50130' '55' '598' '5hours'\n",
      " '5seconds' '5th' '60' '6000' '610' '615' '640' '650' '67' '6am' '700'\n",
      " '700m' '7623' '769' '7am' '800' '86' '8804' '8n' '900' '9000' '91' '910'\n",
      " '9415' '9906' 'aakash' 'aall' 'aashram' 'aayush' 'abandoned' 'abd'\n",
      " 'abdar' 'abdul' 'abhendra' 'abhishek' 'able' 'about' 'above' 'absolute'\n",
      " 'absolutely' 'abundance' 'abundant' 'ac' 'accept' 'acceptable' 'accepted'\n",
      " 'accepting' 'access' 'accessibility']\n"
     ]
    }
   ],
   "source": [
    "# Initialize CountVectorizer\n",
    "vectorizer = CountVectorizer()\n",
    "\n",
    "# Fit the vectorizer to the train data and transform it\n",
    "train_x_vectorized = vectorizer.fit_transform(train_data['Review_Text'])\n",
    "\n",
    "# Fit the vectorizer to the train data and transform it\n",
    "test_x_vectorized = vectorizer.transform(test_data['Review_Text'])\n",
    "\n",
    "# View tokenized words\n",
    "tokenized_words = vectorizer.get_feature_names_out()\n",
    "print(f\"Tokenized words: {tokenized_words[:150]}\")  # Display the first 150 tokenized words"
   ]
  },
  {
   "cell_type": "markdown",
   "metadata": {},
   "source": [
    "## Spliting Train and Test Data to X and Y values"
   ]
  },
  {
   "cell_type": "code",
   "execution_count": 56,
   "metadata": {},
   "outputs": [],
   "source": [
    "train_x = train_x_vectorized\n",
    "train_y = train_data['Sentiment']\n",
    "\n",
    "test_x = test_x_vectorized\n",
    "test_y = test_data['Sentiment']"
   ]
  },
  {
   "cell_type": "markdown",
   "metadata": {},
   "source": [
    "## Training and Evaluating Logistic Regression Model"
   ]
  },
  {
   "cell_type": "code",
   "execution_count": 57,
   "metadata": {},
   "outputs": [
    {
     "name": "stdout",
     "output_type": "stream",
     "text": [
      "Classification Report for Logistic Regression:\n",
      "              precision    recall  f1-score   support\n",
      "\n",
      "    negative       0.84      0.68      0.75       173\n",
      "     neutral       0.61      0.34      0.44       127\n",
      "    positive       0.87      0.96      0.91       830\n",
      "\n",
      "    accuracy                           0.85      1130\n",
      "   macro avg       0.77      0.66      0.70      1130\n",
      "weighted avg       0.83      0.85      0.83      1130\n",
      "\n",
      "Confusion Matrix:\n",
      "[[117   8  48]\n",
      " [ 11  43  73]\n",
      " [ 12  19 799]]\n"
     ]
    }
   ],
   "source": [
    "# Initialize and train the model\n",
    "logreg_model = LogisticRegression(max_iter=1000)\n",
    "logreg_model.fit(train_x, train_y)\n",
    "\n",
    "# Predict on test data\n",
    "predictions = logreg_model.predict(test_x_vectorized)\n",
    "\n",
    "# Evaluate model performance\n",
    "print(\"Classification Report for Logistic Regression:\")\n",
    "print(classification_report(test_y, predictions))\n",
    "\n",
    "print(\"Confusion Matrix:\")\n",
    "print(confusion_matrix(test_y, predictions))"
   ]
  }
 ],
 "metadata": {
  "kernelspec": {
   "display_name": "venv",
   "language": "python",
   "name": "python3"
  },
  "language_info": {
   "codemirror_mode": {
    "name": "ipython",
    "version": 3
   },
   "file_extension": ".py",
   "mimetype": "text/x-python",
   "name": "python",
   "nbconvert_exporter": "python",
   "pygments_lexer": "ipython3",
   "version": "3.11.1"
  }
 },
 "nbformat": 4,
 "nbformat_minor": 2
}
